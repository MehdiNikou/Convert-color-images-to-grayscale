{
 "cells": [
  {
   "cell_type": "code",
   "execution_count": 2,
   "metadata": {},
   "outputs": [
    {
     "name": "stdout",
     "output_type": "stream",
     "text": [
      "Image height : 486 pixels\n",
      "Image width: 402 pixels\n",
      "Number of color: 3\n",
      "Dimensions of the output image is: (486, 402)\n",
      "\n"
     ]
    }
   ],
   "source": [
    "# Coded by Mehdi Nikoo\n",
    "# In this code we want to convert color image to Gray image\n",
    "\n",
    "import numpy as np\n",
    "import cv2\n",
    "\n",
    "color_image = cv2.imread(\"flower.jpg\")\n",
    "cv2.imshow('Input image', color_image)\n",
    "\n",
    "height_pixels, width_pixels, rgb = color_image.shape     # height_pixels = color_image.shape[0],   width_pixels = color_image.shape[1],   rgb = color_image.shape[2]\n",
    "print(f\"Image height : {color_image.shape[0]} pixels\")\n",
    "print(f\"Image width: {color_image.shape[1]} pixels\")\n",
    "print(f\"Number of color: {color_image.shape[2]}\")\n",
    "\n",
    "weights = [0.2989, 0.5870, 0.1140]\n",
    "color_image = color_image.astype(np.float32)\n",
    "\n",
    "gray_image = np.zeros((height_pixels, width_pixels))\n",
    "for i in range(rgb):\n",
    "    gray_image += (color_image[:, :, i] * weights[i]).astype(np.uint8)\n",
    "        \n",
    "gray_image = gray_image.astype(np.uint8)\n",
    "print(f\"Dimensions of the output image is: {gray_image.shape}\\n\")\n",
    "\n",
    "cv2.imwrite(\"output2.jpg\", gray_image)\n",
    "cv2.imshow(\"Output image.jpg\", gray_image)\n",
    "\n",
    "cv2.waitKey(0)\n",
    "cv2.destroyAllWindows()\n"
   ]
  }
 ],
 "metadata": {
  "kernelspec": {
   "display_name": "Python 3",
   "language": "python",
   "name": "python3"
  },
  "language_info": {
   "codemirror_mode": {
    "name": "ipython",
    "version": 3
   },
   "file_extension": ".py",
   "mimetype": "text/x-python",
   "name": "python",
   "nbconvert_exporter": "python",
   "pygments_lexer": "ipython3",
   "version": "3.11.5"
  }
 },
 "nbformat": 4,
 "nbformat_minor": 2
}
