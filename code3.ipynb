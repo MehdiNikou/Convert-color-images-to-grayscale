{
 "cells": [
  {
   "cell_type": "code",
   "execution_count": 1,
   "metadata": {},
   "outputs": [],
   "source": [
    "# Coded by Mehdi Nikoo\n",
    "# In this code we want to convert color image to Gray image\n",
    "\n",
    "import numpy as np\n",
    "import cv2\n",
    "\n",
    "color_image = cv2.imread(\"flower.jpg\")\n",
    "cv2.imshow('Input image', color_image)\n",
    "\n",
    "gray_image = cv2.cvtColor(color_image, cv2.COLOR_BGR2GRAY)\n",
    "\n",
    "cv2.imwrite(\"output3.jpg\", gray_image)\n",
    "cv2.imshow(\"Output image.jpg\", gray_image)\n",
    "\n",
    "cv2.waitKey(0)\n",
    "cv2.destroyAllWindows()\n"
   ]
  }
 ],
 "metadata": {
  "kernelspec": {
   "display_name": "Python 3",
   "language": "python",
   "name": "python3"
  },
  "language_info": {
   "codemirror_mode": {
    "name": "ipython",
    "version": 3
   },
   "file_extension": ".py",
   "mimetype": "text/x-python",
   "name": "python",
   "nbconvert_exporter": "python",
   "pygments_lexer": "ipython3",
   "version": "3.11.5"
  }
 },
 "nbformat": 4,
 "nbformat_minor": 2
}
